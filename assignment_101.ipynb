{
 "cells": [
  {
   "cell_type": "code",
   "execution_count": 1,
   "metadata": {
    "collapsed": false
   },
   "outputs": [],
   "source": [
    "import numpy as np\n",
    "import pandas as pd\n",
    "import sklearn\n",
    "import matplotlib.pyplot as plt\n",
    "%matplotlib inline"
   ]
  },
  {
   "cell_type": "code",
   "execution_count": 2,
   "metadata": {
    "collapsed": false
   },
   "outputs": [],
   "source": [
    "df = pd.read_csv('kc_house_data.csv',\n",
    "                   delimiter=',',\n",
    "            \n",
    "                  )"
   ]
  },
  {
   "cell_type": "code",
   "execution_count": 3,
   "metadata": {
    "collapsed": false
   },
   "outputs": [],
   "source": [
    "df['bedrooms_squared'] = np.square(df['bedrooms'])\n",
    "df['bed_bath_rooms'] = df['bedrooms'] + df['bathrooms']\n",
    "df['log_sqft_living'] = np.log(df['sqft_living'])\n",
    "df['lat_plus_long'] = df['lat'] + df['long']"
   ]
  },
  {
   "cell_type": "code",
   "execution_count": null,
   "metadata": {
    "collapsed": true
   },
   "outputs": [],
   "source": []
  },
  {
   "cell_type": "code",
   "execution_count": 4,
   "metadata": {
    "collapsed": false
   },
   "outputs": [
    {
     "name": "stdout",
     "output_type": "stream",
     "text": [
      "<class 'pandas.core.frame.DataFrame'>\n",
      "RangeIndex: 21613 entries, 0 to 21612\n",
      "Data columns (total 25 columns):\n",
      "id                  21613 non-null int64\n",
      "date                21613 non-null object\n",
      "price               21613 non-null float64\n",
      "bedrooms            21613 non-null int64\n",
      "bathrooms           21613 non-null float64\n",
      "sqft_living         21613 non-null int64\n",
      "sqft_lot            21613 non-null int64\n",
      "floors              21613 non-null float64\n",
      "waterfront          21613 non-null int64\n",
      "view                21613 non-null int64\n",
      "condition           21613 non-null int64\n",
      "grade               21613 non-null int64\n",
      "sqft_above          21613 non-null int64\n",
      "sqft_basement       21613 non-null int64\n",
      "yr_built            21613 non-null int64\n",
      "yr_renovated        21613 non-null int64\n",
      "zipcode             21613 non-null int64\n",
      "lat                 21613 non-null float64\n",
      "long                21613 non-null float64\n",
      "sqft_living15       21613 non-null int64\n",
      "sqft_lot15          21613 non-null int64\n",
      "bedrooms_squared    21613 non-null int64\n",
      "bed_bath_rooms      21613 non-null float64\n",
      "log_sqft_living     21613 non-null float64\n",
      "lat_plus_long       21613 non-null float64\n",
      "dtypes: float64(8), int64(16), object(1)\n",
      "memory usage: 4.1+ MB\n"
     ]
    }
   ],
   "source": [
    "df.info()"
   ]
  },
  {
   "cell_type": "code",
   "execution_count": 5,
   "metadata": {
    "collapsed": false
   },
   "outputs": [],
   "source": [
    "feature = pd.DataFrame({\n",
    "                        'id': df['id'],\n",
    "                        'date': df['date'],\n",
    "                        'sqft_living': df['sqft_living'],\n",
    "                        'sqft_lot': df['sqft_lot'],\n",
    "                        'floors': df['floors'],\n",
    "                        'waterfront': df['waterfront'],\n",
    "                        'view': df['view'],\n",
    "                        'condition': df['condition'],\n",
    "                        'grade': df['grade'],\n",
    "                        'sqft_above': df['sqft_above'],\n",
    "                        'sqft_basement': df['sqft_basement'],\n",
    "                        'yr_built': df['yr_built'],\n",
    "                        'yr_renovated': df['yr_renovated'],\n",
    "                        'zipcode': df['zipcode'],\n",
    "                        'bedrooms': df['bedrooms'], \n",
    "                        'bathrooms': df['bathrooms'],\n",
    "                        'lat': df['lat'],\n",
    "                        'long': df['long'],\n",
    "                        'sqft_living15': df['sqft_living15'],\n",
    "                        'sqft_lot15': df['sqft_lot15'],\n",
    "                        'bedrooms_squared': df['bedrooms_squared'],\n",
    "                        'bed_bath_rooms': df['bed_bath_rooms'],\n",
    "                        'log_sqft_living': df['log_sqft_living'],\n",
    "                        'lat_plus_long': df['lat_plus_long'],\n",
    "                        })\n",
    "target = pd.DataFrame({'price': df['price'],\n",
    "                      })"
   ]
  },
  {
   "cell_type": "code",
   "execution_count": 6,
   "metadata": {
    "collapsed": false
   },
   "outputs": [
    {
     "data": {
      "text/plain": [
       "(21613, 24)"
      ]
     },
     "execution_count": 6,
     "metadata": {},
     "output_type": "execute_result"
    }
   ],
   "source": [
    "feature.shape"
   ]
  },
  {
   "cell_type": "code",
   "execution_count": 7,
   "metadata": {
    "collapsed": false
   },
   "outputs": [
    {
     "data": {
      "text/plain": [
       "(21613, 1)"
      ]
     },
     "execution_count": 7,
     "metadata": {},
     "output_type": "execute_result"
    }
   ],
   "source": [
    "target.shape"
   ]
  },
  {
   "cell_type": "code",
   "execution_count": 8,
   "metadata": {
    "collapsed": false
   },
   "outputs": [],
   "source": [
    "from sklearn.cross_validation import train_test_split\n",
    "feature_train, feature_test, target_train, target_test = train_test_split(feature, target, test_size=0.33, random_state=42)"
   ]
  },
  {
   "cell_type": "code",
   "execution_count": 9,
   "metadata": {
    "collapsed": false
   },
   "outputs": [
    {
     "data": {
      "text/plain": [
       "(7133, 1)"
      ]
     },
     "execution_count": 9,
     "metadata": {},
     "output_type": "execute_result"
    }
   ],
   "source": [
    "target_test.shape"
   ]
  },
  {
   "cell_type": "code",
   "execution_count": 10,
   "metadata": {
    "collapsed": false
   },
   "outputs": [
    {
     "data": {
      "text/plain": [
       "(14480, 1)"
      ]
     },
     "execution_count": 10,
     "metadata": {},
     "output_type": "execute_result"
    }
   ],
   "source": [
    "target_train.shape"
   ]
  },
  {
   "cell_type": "markdown",
   "metadata": {
    "collapsed": false
   },
   "source": [
    "# What is the mean value (arithmetic average) of the 'bedrooms_squared','bed_bath_rooms','log_sqft_living','lat_plus_long' feature on TEST data? (round to 2 decimal places)"
   ]
  },
  {
   "cell_type": "code",
   "execution_count": 11,
   "metadata": {
    "collapsed": false
   },
   "outputs": [
    {
     "name": "stdout",
     "output_type": "stream",
     "text": [
      "12.25\n",
      "5.5\n",
      "7.55\n",
      "-74.65\n"
     ]
    }
   ],
   "source": [
    "avg_bedrooms_squared_test = round(np.mean(feature_test['bedrooms_squared']), 2)\n",
    "avg_bed_bath_rooms = round(np.mean(feature_test['bed_bath_rooms']), 2)\n",
    "avg_log_sqft_living = round(np.mean(feature_test['log_sqft_living']), 2)\n",
    "avg_lat_plus_long = round(np.mean(feature_test['lat_plus_long']), 2)\n",
    "\n",
    "print(avg_bedrooms_squared_test)\n",
    "print(avg_bed_bath_rooms)\n",
    "print(avg_log_sqft_living)\n",
    "print(avg_lat_plus_long)"
   ]
  },
  {
   "cell_type": "markdown",
   "metadata": {},
   "source": [
    "## Model 1: ‘sqft_living’, ‘bedrooms’, ‘bathrooms’, ‘lat’, and ‘long’"
   ]
  },
  {
   "cell_type": "code",
   "execution_count": 12,
   "metadata": {
    "collapsed": false
   },
   "outputs": [],
   "source": [
    "model1_feature_test = pd.DataFrame({'bathrooms': feature_test['bathrooms'],\n",
    "                                   'bedrooms': feature_test['bedrooms'],\n",
    "                                   'lat': feature_test['lat'],\n",
    "                                   'long': feature_test['long'],\n",
    "                                   'sqft_living': feature_test['sqft_living'],})\n",
    "\n",
    "model1_feature_train = pd.DataFrame({'bathrooms': feature_train['bathrooms'],\n",
    "                                   'bedrooms': feature_train['bedrooms'],\n",
    "                                   'lat': feature_train['lat'],\n",
    "                                   'long': feature_train['long'],\n",
    "                                   'sqft_living': feature_train['sqft_living'],})\n",
    "\n"
   ]
  },
  {
   "cell_type": "code",
   "execution_count": 13,
   "metadata": {
    "collapsed": false
   },
   "outputs": [
    {
     "data": {
      "text/html": [
       "<div>\n",
       "<table border=\"1\" class=\"dataframe\">\n",
       "  <thead>\n",
       "    <tr style=\"text-align: right;\">\n",
       "      <th></th>\n",
       "      <th>bathrooms</th>\n",
       "      <th>bedrooms</th>\n",
       "      <th>lat</th>\n",
       "      <th>long</th>\n",
       "      <th>sqft_living</th>\n",
       "    </tr>\n",
       "  </thead>\n",
       "  <tbody>\n",
       "    <tr>\n",
       "      <th>16197</th>\n",
       "      <td>2.75</td>\n",
       "      <td>4</td>\n",
       "      <td>47.6413</td>\n",
       "      <td>-122.357</td>\n",
       "      <td>2600</td>\n",
       "    </tr>\n",
       "    <tr>\n",
       "      <th>16993</th>\n",
       "      <td>2.50</td>\n",
       "      <td>3</td>\n",
       "      <td>47.3289</td>\n",
       "      <td>-122.204</td>\n",
       "      <td>2140</td>\n",
       "    </tr>\n",
       "    <tr>\n",
       "      <th>17538</th>\n",
       "      <td>1.75</td>\n",
       "      <td>4</td>\n",
       "      <td>47.5979</td>\n",
       "      <td>-122.194</td>\n",
       "      <td>1730</td>\n",
       "    </tr>\n",
       "    <tr>\n",
       "      <th>5761</th>\n",
       "      <td>2.50</td>\n",
       "      <td>4</td>\n",
       "      <td>47.3041</td>\n",
       "      <td>-122.280</td>\n",
       "      <td>2130</td>\n",
       "    </tr>\n",
       "    <tr>\n",
       "      <th>18921</th>\n",
       "      <td>1.75</td>\n",
       "      <td>5</td>\n",
       "      <td>47.5772</td>\n",
       "      <td>-122.159</td>\n",
       "      <td>1910</td>\n",
       "    </tr>\n",
       "  </tbody>\n",
       "</table>\n",
       "</div>"
      ],
      "text/plain": [
       "       bathrooms  bedrooms      lat     long  sqft_living\n",
       "16197       2.75         4  47.6413 -122.357         2600\n",
       "16993       2.50         3  47.3289 -122.204         2140\n",
       "17538       1.75         4  47.5979 -122.194         1730\n",
       "5761        2.50         4  47.3041 -122.280         2130\n",
       "18921       1.75         5  47.5772 -122.159         1910"
      ]
     },
     "execution_count": 13,
     "metadata": {},
     "output_type": "execute_result"
    }
   ],
   "source": [
    "model1_feature_train.head()"
   ]
  },
  {
   "cell_type": "code",
   "execution_count": 14,
   "metadata": {
    "collapsed": false
   },
   "outputs": [
    {
     "data": {
      "text/html": [
       "<div>\n",
       "<table border=\"1\" class=\"dataframe\">\n",
       "  <thead>\n",
       "    <tr style=\"text-align: right;\">\n",
       "      <th></th>\n",
       "      <th>price</th>\n",
       "    </tr>\n",
       "  </thead>\n",
       "  <tbody>\n",
       "    <tr>\n",
       "      <th>16197</th>\n",
       "      <td>840000.0</td>\n",
       "    </tr>\n",
       "    <tr>\n",
       "      <th>16993</th>\n",
       "      <td>302000.0</td>\n",
       "    </tr>\n",
       "    <tr>\n",
       "      <th>17538</th>\n",
       "      <td>425000.0</td>\n",
       "    </tr>\n",
       "    <tr>\n",
       "      <th>5761</th>\n",
       "      <td>215000.0</td>\n",
       "    </tr>\n",
       "    <tr>\n",
       "      <th>18921</th>\n",
       "      <td>565000.0</td>\n",
       "    </tr>\n",
       "  </tbody>\n",
       "</table>\n",
       "</div>"
      ],
      "text/plain": [
       "          price\n",
       "16197  840000.0\n",
       "16993  302000.0\n",
       "17538  425000.0\n",
       "5761   215000.0\n",
       "18921  565000.0"
      ]
     },
     "execution_count": 14,
     "metadata": {},
     "output_type": "execute_result"
    }
   ],
   "source": [
    "target_train.head()"
   ]
  },
  {
   "cell_type": "code",
   "execution_count": 15,
   "metadata": {
    "collapsed": false
   },
   "outputs": [],
   "source": [
    "from sklearn.linear_model import LinearRegression\n",
    "model1 = LinearRegression()"
   ]
  },
  {
   "cell_type": "code",
   "execution_count": 16,
   "metadata": {
    "collapsed": false
   },
   "outputs": [
    {
     "name": "stderr",
     "output_type": "stream",
     "text": [
      "/Users/seo/Documents/machine_learning/exercise/lib/python3.5/site-packages/scipy/linalg/basic.py:884: RuntimeWarning: internal gelsd driver lwork query error, required iwork dimension not returned. This is likely the result of LAPACK bug 0038, fixed in LAPACK 3.2.2 (released July 21, 2010). Falling back to 'gelss' driver.\n",
      "  warnings.warn(mesg, RuntimeWarning)\n"
     ]
    },
    {
     "data": {
      "text/plain": [
       "LinearRegression(copy_X=True, fit_intercept=True, n_jobs=1, normalize=False)"
      ]
     },
     "execution_count": 16,
     "metadata": {},
     "output_type": "execute_result"
    }
   ],
   "source": [
    "model1.fit(model1_feature_train, target_train)"
   ]
  },
  {
   "cell_type": "code",
   "execution_count": 17,
   "metadata": {
    "collapsed": false
   },
   "outputs": [
    {
     "data": {
      "text/plain": [
       "(14480, 1)"
      ]
     },
     "execution_count": 17,
     "metadata": {},
     "output_type": "execute_result"
    }
   ],
   "source": [
    "target_train.shape"
   ]
  },
  {
   "cell_type": "code",
   "execution_count": 18,
   "metadata": {
    "collapsed": false
   },
   "outputs": [],
   "source": [
    "model1_target_predict = model1.predict(model1_feature_test)"
   ]
  },
  {
   "cell_type": "code",
   "execution_count": 19,
   "metadata": {
    "collapsed": false
   },
   "outputs": [],
   "source": [
    "# mean_of_bedrooms_squared = round(np.mean(bedrooms_squared), 2)\n",
    "# mean_of_bed_bath_rooms = round(np.mean(bed_bath_rooms), 2)\n",
    "# mean_of_log_sqft_living = round(np.mean(log_sqft_living), 2)\n",
    "# mean_of_lat_plus_long = round(np.mean(lat_plus_long), 2)"
   ]
  },
  {
   "cell_type": "code",
   "execution_count": 20,
   "metadata": {
    "collapsed": false
   },
   "outputs": [
    {
     "name": "stdout",
     "output_type": "stream",
     "text": [
      "62382591507.5\n"
     ]
    }
   ],
   "source": [
    "from sklearn import metrics\n",
    "print(metrics.mean_squared_error(target_test, model1_target_predict))"
   ]
  },
  {
   "cell_type": "markdown",
   "metadata": {
    "collapsed": false
   },
   "source": [
    "model1.score(model1_feature_test, target_test)"
   ]
  },
  {
   "cell_type": "markdown",
   "metadata": {},
   "source": [
    "## - What is the sign (positive or negative) for the coefficient/weight for ‘bathrooms’ in Model 1?"
   ]
  },
  {
   "cell_type": "code",
   "execution_count": 22,
   "metadata": {
    "collapsed": false,
    "scrolled": true
   },
   "outputs": [
    {
     "name": "stdout",
     "output_type": "stream",
     "text": [
      "19715.6115827\n",
      "[[  1.97156116e+04  -5.00317215e+04   6.45868152e+05  -3.04728206e+05\n",
      "    2.99671785e+02]]\n"
     ]
    }
   ],
   "source": [
    "# print(model1.intercept_)\n",
    "# print(model1.coef_[0][0]\n",
    "coef_bathrooms = model1.coef_[0][0]\n",
    "print(coef_bathrooms) # positive\n",
    "print(model1.coef_)"
   ]
  },
  {
   "cell_type": "markdown",
   "metadata": {
    "collapsed": true
   },
   "source": [
    "## Model 2: ‘sqft_living’, ‘bedrooms’, ‘bathrooms’, ‘lat’,‘long’, and ‘bed_bath_rooms’\n"
   ]
  },
  {
   "cell_type": "code",
   "execution_count": 23,
   "metadata": {
    "collapsed": true
   },
   "outputs": [],
   "source": [
    "model2_feature_train = pd.DataFrame({\n",
    "                    'sqft_living': feature_train['sqft_living'],\n",
    "                    'bedrooms': feature_train['bedrooms'],\n",
    "                    'bathrooms': feature_train['bathrooms'],\n",
    "                    'lat': feature_train['lat'],\n",
    "                    'long': feature_train['long'],\n",
    "                    'bed_bath_rooms': feature_train['bed_bath_rooms'],\n",
    "                    })\n",
    "\n",
    "model2_feature_test = pd.DataFrame({\n",
    "                    'sqft_living': feature_test['sqft_living'],\n",
    "                    'bedrooms': feature_test['bedrooms'],\n",
    "                    'bathrooms': feature_test['bathrooms'],\n",
    "                    'lat': feature_test['lat'],\n",
    "                    'long': feature_test['long'],\n",
    "                    'bed_bath_rooms': feature_test['bed_bath_rooms'],\n",
    "                    })"
   ]
  },
  {
   "cell_type": "code",
   "execution_count": 24,
   "metadata": {
    "collapsed": true
   },
   "outputs": [],
   "source": [
    "model2 = LinearRegression()"
   ]
  },
  {
   "cell_type": "code",
   "execution_count": 25,
   "metadata": {
    "collapsed": false
   },
   "outputs": [
    {
     "data": {
      "text/plain": [
       "LinearRegression(copy_X=True, fit_intercept=True, n_jobs=1, normalize=False)"
      ]
     },
     "execution_count": 25,
     "metadata": {},
     "output_type": "execute_result"
    }
   ],
   "source": [
    "model2.fit(model2_feature_train, target_train)"
   ]
  },
  {
   "cell_type": "code",
   "execution_count": 26,
   "metadata": {
    "collapsed": true
   },
   "outputs": [],
   "source": [
    "model2_target_predict = model2.predict(model2_feature_test)"
   ]
  },
  {
   "cell_type": "code",
   "execution_count": 27,
   "metadata": {
    "collapsed": false
   },
   "outputs": [
    {
     "data": {
      "text/html": [
       "<div>\n",
       "<table border=\"1\" class=\"dataframe\">\n",
       "  <thead>\n",
       "    <tr style=\"text-align: right;\">\n",
       "      <th></th>\n",
       "      <th>bathrooms</th>\n",
       "      <th>bed_bath_rooms</th>\n",
       "      <th>bedrooms</th>\n",
       "      <th>lat</th>\n",
       "      <th>long</th>\n",
       "      <th>sqft_living</th>\n",
       "    </tr>\n",
       "  </thead>\n",
       "  <tbody>\n",
       "    <tr>\n",
       "      <th>735</th>\n",
       "      <td>2.25</td>\n",
       "      <td>6.25</td>\n",
       "      <td>4</td>\n",
       "      <td>47.4388</td>\n",
       "      <td>-122.162</td>\n",
       "      <td>2070</td>\n",
       "    </tr>\n",
       "    <tr>\n",
       "      <th>2830</th>\n",
       "      <td>3.00</td>\n",
       "      <td>8.00</td>\n",
       "      <td>5</td>\n",
       "      <td>47.6784</td>\n",
       "      <td>-122.285</td>\n",
       "      <td>2900</td>\n",
       "    </tr>\n",
       "    <tr>\n",
       "      <th>4106</th>\n",
       "      <td>2.50</td>\n",
       "      <td>6.50</td>\n",
       "      <td>4</td>\n",
       "      <td>47.5646</td>\n",
       "      <td>-122.129</td>\n",
       "      <td>3770</td>\n",
       "    </tr>\n",
       "    <tr>\n",
       "      <th>16218</th>\n",
       "      <td>3.50</td>\n",
       "      <td>6.50</td>\n",
       "      <td>3</td>\n",
       "      <td>47.6995</td>\n",
       "      <td>-122.228</td>\n",
       "      <td>4560</td>\n",
       "    </tr>\n",
       "    <tr>\n",
       "      <th>19964</th>\n",
       "      <td>2.50</td>\n",
       "      <td>5.50</td>\n",
       "      <td>3</td>\n",
       "      <td>47.6647</td>\n",
       "      <td>-122.083</td>\n",
       "      <td>2550</td>\n",
       "    </tr>\n",
       "  </tbody>\n",
       "</table>\n",
       "</div>"
      ],
      "text/plain": [
       "       bathrooms  bed_bath_rooms  bedrooms      lat     long  sqft_living\n",
       "735         2.25            6.25         4  47.4388 -122.162         2070\n",
       "2830        3.00            8.00         5  47.6784 -122.285         2900\n",
       "4106        2.50            6.50         4  47.5646 -122.129         3770\n",
       "16218       3.50            6.50         3  47.6995 -122.228         4560\n",
       "19964       2.50            5.50         3  47.6647 -122.083         2550"
      ]
     },
     "execution_count": 27,
     "metadata": {},
     "output_type": "execute_result"
    }
   ],
   "source": [
    "model2_feature_test.head()"
   ]
  },
  {
   "cell_type": "code",
   "execution_count": 28,
   "metadata": {
    "collapsed": false
   },
   "outputs": [
    {
     "name": "stdout",
     "output_type": "stream",
     "text": [
      "0.583369936784\n",
      "[-67917635.30924633]\n",
      "[[  2.98209815e+04  -1.01053700e+04  -3.99263515e+04   6.45868152e+05\n",
      "   -3.04728206e+05   2.99671785e+02]]\n",
      "62382591507.5\n"
     ]
    }
   ],
   "source": [
    "print(model2.score(model2_feature_test, target_test))\n",
    "print(model2.intercept_)\n",
    "print(model2.coef_)\n",
    "print(metrics.mean_squared_error(target_test, model2_target_predict))"
   ]
  },
  {
   "cell_type": "markdown",
   "metadata": {},
   "source": [
    "## What is the sign (positive or negative) for the coefficient/weight for ‘bathrooms’ in Model 2? "
   ]
  },
  {
   "cell_type": "code",
   "execution_count": 29,
   "metadata": {
    "collapsed": false
   },
   "outputs": [
    {
     "name": "stdout",
     "output_type": "stream",
     "text": [
      "29820.9815474\n"
     ]
    }
   ],
   "source": [
    "coef_bathrooms = model2.coef_[0][0]\n",
    "# print(coef_bathrooms) #negative\n",
    "print(coef_bathrooms)"
   ]
  },
  {
   "cell_type": "markdown",
   "metadata": {},
   "source": [
    "##  Model 3: ‘sqft_living’, ‘bedrooms’, ‘bathrooms’, ‘lat’,‘long’, ‘bed_bath_rooms’, ‘bedrooms_squared’, ‘log_sqft_living’, and ‘lat_plus_long’"
   ]
  },
  {
   "cell_type": "code",
   "execution_count": 30,
   "metadata": {
    "collapsed": true
   },
   "outputs": [],
   "source": [
    "model3_feature_train = pd.DataFrame({\n",
    "                    'sqft_living': feature_train['sqft_living'],\n",
    "                    'bedrooms': feature_train['bedrooms'],\n",
    "                    'bathrooms': feature_train['bathrooms'],\n",
    "                    'lat': feature_train['lat'],\n",
    "                    'long': feature_train['long'],\n",
    "                    'bed_bath_rooms': feature_train['bed_bath_rooms'],\n",
    "                    'bedrooms_squared': feature_train['bedrooms_squared'],\n",
    "                    'log_sqft_living': feature_train['log_sqft_living'],\n",
    "                    'lat_plus_long': feature_train['lat_plus_long'],\n",
    "                    })\n",
    "\n",
    "model3_feature_test = pd.DataFrame({\n",
    "                    'sqft_living': feature_test['sqft_living'],\n",
    "                    'bedrooms': feature_test['bedrooms'],\n",
    "                    'bathrooms': feature_test['bathrooms'],\n",
    "                    'lat': feature_test['lat'],\n",
    "                    'long': feature_test['long'],\n",
    "                    'bed_bath_rooms': feature_test['bed_bath_rooms'],\n",
    "                    'bedrooms_squared': feature_test['bedrooms_squared'],\n",
    "                    'log_sqft_living': feature_test['log_sqft_living'],\n",
    "                    'lat_plus_long': feature_test['lat_plus_long'],\n",
    "                    })"
   ]
  },
  {
   "cell_type": "code",
   "execution_count": 31,
   "metadata": {
    "collapsed": true
   },
   "outputs": [],
   "source": [
    "model3 = LinearRegression()"
   ]
  },
  {
   "cell_type": "code",
   "execution_count": 32,
   "metadata": {
    "collapsed": false
   },
   "outputs": [
    {
     "data": {
      "text/plain": [
       "LinearRegression(copy_X=True, fit_intercept=True, n_jobs=1, normalize=False)"
      ]
     },
     "execution_count": 32,
     "metadata": {},
     "output_type": "execute_result"
    }
   ],
   "source": [
    "model3.fit(model3_feature_train, target_train)"
   ]
  },
  {
   "cell_type": "code",
   "execution_count": 33,
   "metadata": {
    "collapsed": true
   },
   "outputs": [],
   "source": [
    "model3_target_predict = model3.predict(model3_feature_test)"
   ]
  },
  {
   "cell_type": "code",
   "execution_count": 34,
   "metadata": {
    "collapsed": false
   },
   "outputs": [
    {
     "name": "stdout",
     "output_type": "stream",
     "text": [
      "59515418771.9\n"
     ]
    }
   ],
   "source": [
    "from sklearn import metrics\n",
    "print(metrics.mean_squared_error(target_test, model3_target_predict))"
   ]
  },
  {
   "cell_type": "code",
   "execution_count": 35,
   "metadata": {
    "collapsed": false
   },
   "outputs": [
    {
     "name": "stdout",
     "output_type": "stream",
     "text": [
      "0.602518714179\n"
     ]
    }
   ],
   "source": [
    "print(model3.score(model3_feature_test, target_test))"
   ]
  },
  {
   "cell_type": "code",
   "execution_count": 36,
   "metadata": {
    "collapsed": false
   },
   "outputs": [
    {
     "name": "stdout",
     "output_type": "stream",
     "text": [
      "[-59910752.94130831]\n",
      "[[  4.05315670e+04   1.23434680e+03  -3.92972202e+04   9.09002631e+02\n",
      "    5.17180731e+05   1.24665924e+05  -5.06190750e+05  -3.92514806e+05\n",
      "    4.99459544e+02]]\n"
     ]
    }
   ],
   "source": [
    "print(model3.intercept_)\n",
    "print(model3.coef_)"
   ]
  },
  {
   "cell_type": "markdown",
   "metadata": {},
   "source": [
    "## Which model (1, 2 or 3) had the lowest RSS on TRAINING data?"
   ]
  },
  {
   "cell_type": "markdown",
   "metadata": {},
   "source": [
    "### model1"
   ]
  },
  {
   "cell_type": "code",
   "execution_count": 37,
   "metadata": {
    "collapsed": false
   },
   "outputs": [],
   "source": [
    "feature_train_1, feature_test_1, target_train_1, target_test_1 = train_test_split(model1_feature_train, target_train, test_size=0.33, random_state=42)"
   ]
  },
  {
   "cell_type": "code",
   "execution_count": 38,
   "metadata": {
    "collapsed": true
   },
   "outputs": [],
   "source": [
    "model1_train = LinearRegression()"
   ]
  },
  {
   "cell_type": "code",
   "execution_count": 39,
   "metadata": {
    "collapsed": false
   },
   "outputs": [
    {
     "data": {
      "text/plain": [
       "LinearRegression(copy_X=True, fit_intercept=True, n_jobs=1, normalize=False)"
      ]
     },
     "execution_count": 39,
     "metadata": {},
     "output_type": "execute_result"
    }
   ],
   "source": [
    "model1_train.fit(feature_train_1, target_train_1)"
   ]
  },
  {
   "cell_type": "code",
   "execution_count": 40,
   "metadata": {
    "collapsed": false
   },
   "outputs": [],
   "source": [
    "model1_train_predict = model1_train.predict(feature_test_1) # 트레이닝셋의 target predict."
   ]
  },
  {
   "cell_type": "code",
   "execution_count": 41,
   "metadata": {
    "collapsed": false,
    "scrolled": true
   },
   "outputs": [
    {
     "name": "stdout",
     "output_type": "stream",
     "text": [
      "price    2.300346e+14\n",
      "dtype: float64\n"
     ]
    }
   ],
   "source": [
    "# print(metrics.mean_squared_error(target_test_1, model1_train_predict)) # 모델1 트레이닝셋의 rss\n",
    "# model1_train_rss = sum(model1_train_predict - target_test_1) ** 2\n",
    "rss_model1_train = model1_train_predict - target_test_1\n",
    "# rss_model1_train = sum(rss_model1_train ** 2)\n",
    "rss_model1_train = (rss_model1_train ** 2).sum()\n",
    "print(rss_model1_train) \n"
   ]
  },
  {
   "cell_type": "markdown",
   "metadata": {},
   "source": [
    "### model2 "
   ]
  },
  {
   "cell_type": "code",
   "execution_count": 42,
   "metadata": {
    "collapsed": true
   },
   "outputs": [],
   "source": [
    "feature_train_2, feature_test_2, target_train_2, target_test_2 = train_test_split(model2_feature_train, target_train, test_size=0.33, random_state=42)"
   ]
  },
  {
   "cell_type": "code",
   "execution_count": 43,
   "metadata": {
    "collapsed": true
   },
   "outputs": [],
   "source": [
    "model2_train = LinearRegression()"
   ]
  },
  {
   "cell_type": "code",
   "execution_count": 44,
   "metadata": {
    "collapsed": false
   },
   "outputs": [
    {
     "data": {
      "text/plain": [
       "LinearRegression(copy_X=True, fit_intercept=True, n_jobs=1, normalize=False)"
      ]
     },
     "execution_count": 44,
     "metadata": {},
     "output_type": "execute_result"
    }
   ],
   "source": [
    "model2_train.fit(feature_train_2, target_train_2)"
   ]
  },
  {
   "cell_type": "code",
   "execution_count": 45,
   "metadata": {
    "collapsed": true
   },
   "outputs": [],
   "source": [
    "model2_train_predict = model2_train.predict(feature_test_2)"
   ]
  },
  {
   "cell_type": "code",
   "execution_count": 46,
   "metadata": {
    "collapsed": false
   },
   "outputs": [
    {
     "name": "stdout",
     "output_type": "stream",
     "text": [
      "price    2.300346e+14\n",
      "dtype: float64\n"
     ]
    }
   ],
   "source": [
    "rss_model2_train = model2_train_predict - target_test_2\n",
    "rss_model2_train = (rss_model2_train ** 2).sum()\n",
    "print(rss_model2_train) "
   ]
  },
  {
   "cell_type": "markdown",
   "metadata": {},
   "source": [
    "### model3 (lowest Rss in training data)"
   ]
  },
  {
   "cell_type": "code",
   "execution_count": 47,
   "metadata": {
    "collapsed": true
   },
   "outputs": [],
   "source": [
    "feature_train_3, feature_test_3, target_train_3, target_test_3 = train_test_split(model3_feature_train, target_train, test_size=0.33, random_state=42)"
   ]
  },
  {
   "cell_type": "code",
   "execution_count": 48,
   "metadata": {
    "collapsed": true
   },
   "outputs": [],
   "source": [
    "model3_train = LinearRegression()"
   ]
  },
  {
   "cell_type": "code",
   "execution_count": 49,
   "metadata": {
    "collapsed": false
   },
   "outputs": [
    {
     "data": {
      "text/plain": [
       "LinearRegression(copy_X=True, fit_intercept=True, n_jobs=1, normalize=False)"
      ]
     },
     "execution_count": 49,
     "metadata": {},
     "output_type": "execute_result"
    }
   ],
   "source": [
    "model3_train.fit(feature_train_3, target_train_3)"
   ]
  },
  {
   "cell_type": "code",
   "execution_count": 50,
   "metadata": {
    "collapsed": true
   },
   "outputs": [],
   "source": [
    "model3_train_predict = model3_train.predict(feature_test_3)"
   ]
  },
  {
   "cell_type": "code",
   "execution_count": 51,
   "metadata": {
    "collapsed": false
   },
   "outputs": [
    {
     "name": "stdout",
     "output_type": "stream",
     "text": [
      "price    2.121745e+14\n",
      "dtype: float64\n"
     ]
    }
   ],
   "source": [
    "rss_model3_train = model3_train_predict - target_test_3\n",
    "rss_model3_train = (rss_model3_train ** 2).sum()\n",
    "print(rss_model3_train) "
   ]
  },
  {
   "cell_type": "markdown",
   "metadata": {},
   "source": [
    "## Which model (1, 2 or 3) had the lowest RSS on TESTING data?"
   ]
  },
  {
   "cell_type": "markdown",
   "metadata": {},
   "source": [
    "### model1 "
   ]
  },
  {
   "cell_type": "code",
   "execution_count": 52,
   "metadata": {
    "collapsed": false
   },
   "outputs": [],
   "source": [
    "feature_train_1_test, feature_test_1_test, target_train_1_test, target_test_1_test = train_test_split(model1_feature_test, target_test, test_size=0.33, random_state=42)"
   ]
  },
  {
   "cell_type": "code",
   "execution_count": 53,
   "metadata": {
    "collapsed": true
   },
   "outputs": [],
   "source": [
    "model1_test = LinearRegression()"
   ]
  },
  {
   "cell_type": "code",
   "execution_count": 54,
   "metadata": {
    "collapsed": false
   },
   "outputs": [
    {
     "data": {
      "text/plain": [
       "LinearRegression(copy_X=True, fit_intercept=True, n_jobs=1, normalize=False)"
      ]
     },
     "execution_count": 54,
     "metadata": {},
     "output_type": "execute_result"
    }
   ],
   "source": [
    "model1_test.fit(feature_train_1_test, target_train_1_test)"
   ]
  },
  {
   "cell_type": "code",
   "execution_count": 55,
   "metadata": {
    "collapsed": false
   },
   "outputs": [],
   "source": [
    "model1_test_predict = model1_test.predict(feature_test_1_test)"
   ]
  },
  {
   "cell_type": "code",
   "execution_count": 56,
   "metadata": {
    "collapsed": false
   },
   "outputs": [
    {
     "name": "stdout",
     "output_type": "stream",
     "text": [
      "price    1.770551e+14\n",
      "dtype: float64\n"
     ]
    }
   ],
   "source": [
    "rss_model1_test = model1_test_predict - target_test_1_test\n",
    "rss_model1_test = (rss_model1_test ** 2).sum()\n",
    "print(rss_model1_test)"
   ]
  },
  {
   "cell_type": "markdown",
   "metadata": {},
   "source": [
    "### model2"
   ]
  },
  {
   "cell_type": "code",
   "execution_count": 57,
   "metadata": {
    "collapsed": false
   },
   "outputs": [],
   "source": [
    "# print(metrics.mean_squared_error(target_test, model2_target_predict))\n",
    "# rss_models2_test = model2_target_predict\n",
    "feature_train_2_test, feature_test_2_test, target_train_2_test, target_test_2_test = train_test_split(model2_feature_test, target_test, test_size=0.33, random_state=42)"
   ]
  },
  {
   "cell_type": "code",
   "execution_count": 58,
   "metadata": {
    "collapsed": true
   },
   "outputs": [],
   "source": [
    "model2_test = LinearRegression()"
   ]
  },
  {
   "cell_type": "code",
   "execution_count": 59,
   "metadata": {
    "collapsed": false
   },
   "outputs": [
    {
     "data": {
      "text/plain": [
       "LinearRegression(copy_X=True, fit_intercept=True, n_jobs=1, normalize=False)"
      ]
     },
     "execution_count": 59,
     "metadata": {},
     "output_type": "execute_result"
    }
   ],
   "source": [
    "model2_test.fit(feature_train_2_test, target_train_2_test)"
   ]
  },
  {
   "cell_type": "code",
   "execution_count": 60,
   "metadata": {
    "collapsed": true
   },
   "outputs": [],
   "source": [
    "model2_test_predict = model2_test.predict(feature_test_2_test)"
   ]
  },
  {
   "cell_type": "code",
   "execution_count": 61,
   "metadata": {
    "collapsed": false
   },
   "outputs": [
    {
     "name": "stdout",
     "output_type": "stream",
     "text": [
      "price    1.770551e+14\n",
      "dtype: float64\n"
     ]
    }
   ],
   "source": [
    "rss_model2_test = model2_test_predict - target_test_2_test\n",
    "rss_model2_test = (rss_model2_test ** 2).sum()\n",
    "print(rss_model2_test)"
   ]
  },
  {
   "cell_type": "markdown",
   "metadata": {},
   "source": [
    "### model3 (lowest Rss on testing data)"
   ]
  },
  {
   "cell_type": "code",
   "execution_count": 62,
   "metadata": {
    "collapsed": false
   },
   "outputs": [],
   "source": [
    "# print(metrics.mean_squared_error(target_test, model3_target_predict))\n",
    "feature_train_3_test, feature_test_3_test, target_train_3_test, target_test_3_test = train_test_split(model3_feature_test, target_test, test_size=0.33, random_state=42)"
   ]
  },
  {
   "cell_type": "code",
   "execution_count": 63,
   "metadata": {
    "collapsed": true
   },
   "outputs": [],
   "source": [
    "model3_test = LinearRegression()"
   ]
  },
  {
   "cell_type": "code",
   "execution_count": 64,
   "metadata": {
    "collapsed": false
   },
   "outputs": [
    {
     "data": {
      "text/plain": [
       "LinearRegression(copy_X=True, fit_intercept=True, n_jobs=1, normalize=False)"
      ]
     },
     "execution_count": 64,
     "metadata": {},
     "output_type": "execute_result"
    }
   ],
   "source": [
    "model3_test.fit(feature_train_2_test, target_train_2_test)"
   ]
  },
  {
   "cell_type": "code",
   "execution_count": 65,
   "metadata": {
    "collapsed": true
   },
   "outputs": [],
   "source": [
    "model3_test_predict = model3_test.predict(feature_test_2_test)"
   ]
  },
  {
   "cell_type": "code",
   "execution_count": 66,
   "metadata": {
    "collapsed": false
   },
   "outputs": [
    {
     "name": "stdout",
     "output_type": "stream",
     "text": [
      "price    1.770551e+14\n",
      "dtype: float64\n"
     ]
    }
   ],
   "source": [
    "rss_model3_test = model3_test_predict - target_test_3_test\n",
    "rss_model3_test = (rss_model3_test ** 2).sum()\n",
    "print(rss_model3_test)"
   ]
  }
 ],
 "metadata": {
  "kernelspec": {
   "display_name": "Python 3",
   "language": "python",
   "name": "python3"
  },
  "language_info": {
   "codemirror_mode": {
    "name": "ipython",
    "version": 3
   },
   "file_extension": ".py",
   "mimetype": "text/x-python",
   "name": "python",
   "nbconvert_exporter": "python",
   "pygments_lexer": "ipython3",
   "version": "3.5.2"
  }
 },
 "nbformat": 4,
 "nbformat_minor": 1
}
